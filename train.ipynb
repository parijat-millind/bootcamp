{
 "cells": [
  {
   "cell_type": "code",
   "id": "initial_id",
   "metadata": {
    "collapsed": true,
    "jupyter": {
     "is_executing": true
    }
   },
   "source": [
    "import pandas as pd\n",
    "from sklearn.model_selection import train_test_split\n",
    "from sklearn.linear_model import LogisticRegression\n",
    "from sklearn.metrics import classification_report\n",
    "from sklearn.preprocessing import StandardScaler\n",
    "from rapidfuzz.distance import Levenshtein, JaroWinkler\n",
    "from rapidfuzz.fuzz import token_set_ratio\n",
    "\n",
    "# Load the CSV file\n",
    "df = pd.read_csv('bootcamp/string_matching_dataset.csv', header=None, names=['string1', 'string2', 'match'])\n",
    "\n",
    "# Calculate similarity scores\n",
    "df['levenshtein_similarity'] = df.apply(lambda row: Levenshtein.normalized_similarity(row['string1'], row['string2']), axis=1)\n",
    "df['jaro_winkler_similarity'] = df.apply(lambda row: JaroWinkler.normalized_similarity(row['string1'], row['string2']), axis=1)\n",
    "df['token_set_ratio_similarity'] = df.apply(lambda row: token_set_ratio(row['string1'], row['string2']) / 100, axis=1)\n",
    "\n",
    "# Prepare the feature matrix and target vector\n",
    "X = df[['levenshtein_similarity', 'jaro_winkler_similarity', 'token_set_ratio_similarity']]\n",
    "y = df['match']\n",
    "\n",
    "# Split the data into training and testing sets\n",
    "X_train, X_test, y_train, y_test = train_test_split(X, y, test_size=0.2, random_state=42)\n",
    "\n",
    "# Standardize the features\n",
    "scaler = StandardScaler()\n",
    "X_train_scaled = scaler.fit_transform(X_train)\n",
    "X_test_scaled = scaler.transform(X_test)\n",
    "\n",
    "# Train the logistic regression model\n",
    "model = LogisticRegression()\n",
    "model.fit(X_train_scaled, y_train)\n",
    "\n",
    "# Make predictions\n",
    "y_pred = model.predict(X_test)\n",
    "\n",
    "# Print the classification report\n",
    "print(classification_report(y_test, y_pred))\n",
    "\n",
    "# Print the weights for each similarity\n",
    "weights = model.coef_[0]\n",
    "print(f'Levenshtein Similarity Weight: {weights[0]}')\n",
    "print(f'Jaro-Winkler Similarity Weight: {weights[1]}')\n",
    "print(f'Token Set Ratio Similarity Weight: {weights[2]}')"
   ],
   "outputs": [],
   "execution_count": null
  },
  {
   "metadata": {},
   "cell_type": "code",
   "outputs": [],
   "execution_count": null,
   "source": "",
   "id": "416b28cc60c92a15"
  }
 ],
 "metadata": {
  "kernelspec": {
   "display_name": "Python 3",
   "language": "python",
   "name": "python3"
  },
  "language_info": {
   "codemirror_mode": {
    "name": "ipython",
    "version": 2
   },
   "file_extension": ".py",
   "mimetype": "text/x-python",
   "name": "python",
   "nbconvert_exporter": "python",
   "pygments_lexer": "ipython2",
   "version": "2.7.6"
  }
 },
 "nbformat": 4,
 "nbformat_minor": 5
}
