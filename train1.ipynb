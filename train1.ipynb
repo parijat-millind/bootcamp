{
 "cells": [
  {
   "cell_type": "code",
   "execution_count": 9,
   "metadata": {},
   "outputs": [
    {
     "name": "stdout",
     "output_type": "stream",
     "text": [
      "Model Accuracy: 0.6116666666666667\n",
      "Classification Report:\n",
      "               precision    recall  f1-score   support\n",
      "\n",
      "           0       0.67      0.83      0.74       400\n",
      "           1       0.34      0.17      0.23       200\n",
      "\n",
      "    accuracy                           0.61       600\n",
      "   macro avg       0.50      0.50      0.48       600\n",
      "weighted avg       0.56      0.61      0.57       600\n",
      "\n",
      "Model saved to fraud_detection_model.pkl\n"
     ]
    }
   ],
   "source": [
    "import pandas as pd\n",
    "from sklearn.model_selection import train_test_split\n",
    "from sklearn.ensemble import RandomForestClassifier\n",
    "from sklearn.metrics import accuracy_score, classification_report\n",
    "import joblib\n",
    "\n",
    "# Load the dataset\n",
    "file_path = 'credit_card_fraud_dataset.csv'  # Update with your file path\n",
    "df = pd.read_csv(file_path)\n",
    "\n",
    "# Selecting fraud and non-fraud transactions\n",
    "fraud_data = df[df['IsFraud'] == 1]\n",
    "non_fraud_data = df[df['IsFraud'] == 0].sample(n=2000, random_state=42)\n",
    "\n",
    "# Combine fraud and sampled non-fraud data\n",
    "balanced_data = pd.concat([fraud_data, non_fraud_data])\n",
    "\n",
    "# Drop irrelevant columns\n",
    "balanced_data = balanced_data.drop(columns=['TransactionID', 'TransactionDate'])\n",
    "\n",
    "# Convert categorical columns to numerical using one-hot encoding\n",
    "balanced_data = pd.get_dummies(balanced_data, columns=['TransactionType', 'Location'], drop_first=True)\n",
    "\n",
    "# Separate features and target variable\n",
    "X = balanced_data.drop(columns=['IsFraud'])\n",
    "y = balanced_data['IsFraud']\n",
    "\n",
    "# Split the data into training and testing sets\n",
    "X_train, X_test, y_train, y_test = train_test_split(X, y, test_size=0.2, random_state=42, stratify=y)\n",
    "\n",
    "# Train a RandomForest classifier\n",
    "model = RandomForestClassifier(n_estimators=100, random_state=42)\n",
    "model.fit(X_train, y_train)\n",
    "\n",
    "# Evaluate the model\n",
    "y_pred = model.predict(X_test)\n",
    "accuracy = accuracy_score(y_test, y_pred)\n",
    "report = classification_report(y_test, y_pred)\n",
    "\n",
    "print(\"Model Accuracy:\", accuracy)\n",
    "print(\"Classification Report:\\n\", report)\n",
    "\n",
    "# Save the trained model\n",
    "model_filename = 'fraud_detection_model.pkl'\n",
    "joblib.dump(model, model_filename)\n",
    "print(f\"Model saved to {model_filename}\")\n"
   ]
  },
  {
   "cell_type": "code",
   "execution_count": 14,
   "metadata": {},
   "outputs": [
    {
     "name": "stdout",
     "output_type": "stream",
     "text": [
      "Prediction (1 for fraud, 0 for non-fraud): 1\n",
      "Probability of being fraud: 0.58\n"
     ]
    }
   ],
   "source": [
    "import pandas as pd\n",
    "import joblib\n",
    "\n",
    "# Load the trained model\n",
    "model_filename = 'fraud_detection_model.pkl'\n",
    "model = joblib.load(model_filename)\n",
    "\n",
    "# Define the function to preprocess input data and make predictions\n",
    "def preprocess_and_predict(input_data):\n",
    "    # Convert input data to DataFrame\n",
    "    input_df = pd.DataFrame([input_data])\n",
    "    \n",
    "    # Drop irrelevant columns if present\n",
    "    if 'TransactionID' in input_df.columns:\n",
    "        input_df = input_df.drop(columns=['TransactionID'])\n",
    "    if 'TransactionDate' in input_df.columns:\n",
    "        input_df = input_df.drop(columns=['TransactionDate'])\n",
    "    \n",
    "    # Convert categorical columns to numerical using one-hot encoding\n",
    "    input_df = pd.get_dummies(input_df, columns=['TransactionType', 'Location'], drop_first=True)\n",
    "    \n",
    "    # Ensure the input data has the same columns as the training data\n",
    "    # Create a DataFrame with the same columns as the training data\n",
    "    training_columns = model.feature_names_in_\n",
    "    input_df = input_df.reindex(columns=training_columns, fill_value=0)\n",
    "    \n",
    "    # Make prediction\n",
    "    prediction = model.predict(input_df)\n",
    "    probability = model.predict_proba(input_df)\n",
    "    \n",
    "    return prediction[0], probability[0][1]\n",
    "\n",
    "\n",
    "# Example usage\n",
    "input_data = {    \n",
    "    'Amount': 20001.32,\n",
    "    'MerchantID': 826,\n",
    "    'TransactionType': 'purchase',\n",
    "    'Location': 'San Jose'\n",
    "}\n",
    "\n",
    "prediction, fraud_probability = preprocess_and_predict(input_data)\n",
    "print(\"Prediction (1 for fraud, 0 for non-fraud):\", prediction)\n",
    "print(\"Probability of being fraud:\", fraud_probability)"
   ]
  },
  {
   "cell_type": "code",
   "execution_count": 17,
   "metadata": {},
   "outputs": [
    {
     "name": "stdout",
     "output_type": "stream",
     "text": [
      "<class 'float'>\n"
     ]
    }
   ],
   "source": [
    "input_data = {    \n",
    "    'Amount': 20001.32,\n",
    "    'MerchantID': 826,\n",
    "    'TransactionType': 'purchase',\n",
    "    'Location': 'San Jose'\n",
    "}\n",
    "\n",
    "print(type(input_data['Amount']))"
   ]
  }
 ],
 "metadata": {
  "kernelspec": {
   "display_name": "Python 3",
   "language": "python",
   "name": "python3"
  },
  "language_info": {
   "codemirror_mode": {
    "name": "ipython",
    "version": 3
   },
   "file_extension": ".py",
   "mimetype": "text/x-python",
   "name": "python",
   "nbconvert_exporter": "python",
   "pygments_lexer": "ipython3",
   "version": "3.12.3"
  }
 },
 "nbformat": 4,
 "nbformat_minor": 2
}
